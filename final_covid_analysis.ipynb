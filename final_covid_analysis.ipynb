{
 "cells": [
  {
   "cell_type": "markdown",
   "id": "abdff4d8",
   "metadata": {},
   "source": [
    "# COVID Analysis\n",
    "\n",
    "Examines a COVID dataset...  \n",
    "\n",
    "---"
   ]
  },
  {
   "cell_type": "code",
   "execution_count": 1,
   "id": "3465dbcf",
   "metadata": {},
   "outputs": [
    {
     "name": "stdout",
     "output_type": "stream",
     "text": [
      "Overwriting bigdata.py\n"
     ]
    }
   ],
   "source": [
    "%%file bigdata.py\n",
    "\n",
    "from mrjob.job import MRJob\n",
    "import pandas as pd\n",
    "import numpy as np\n",
    "import matplotlib.pyplot as plt\n",
    "from math import exp\n",
    "from sklearn.model_selection import train_test_split\n",
    "from sklearn.linear_model import LogisticRegression\n",
    "from sklearn.preprocessing import scale\n",
    "from sklearn import preprocessing\n",
    "from sklearn.metrics import accuracy_score, classification_report, confusion_matrix, ConfusionMatrixDisplay\n",
    "import seaborn as sns\n",
    "\n",
    "class map_read(MRJob):\n",
    "    def mapper(self, _, line):\n",
    "        line = line.split(\",\")\n",
    "        if line[2] == \"1\":\n",
    "            yield \"Female\", (line[3], line[4], line[6], line[9], line[10], \n",
    "                             line[11], line[12], line[13], line[14],\n",
    "                             line[15], line[16], line[17], line[18])\n",
    "        else:\n",
    "            yield \"Male\", (line[3], line[4], line[6], line[9], line[10], \n",
    "                           line[11], line[12], line[13], line[14],\n",
    "                           line[15], line[16], line[17], line[18])\n",
    "            \n",
    "    def reducer(self, key, values):\n",
    "        if key == \"Female\":\n",
    "            fdeaths = 0\n",
    "            fcount = 0\n",
    "            fhospitalized = 0\n",
    "            fpreexisting = 0\n",
    "            '''\n",
    "                index indicates which condition is present in person\n",
    "                pneumonia, diabetes, copd, asthma, immunosuppressed, hypertension, other, \n",
    "                cardiovascular, obesity, renal, tobacco   \n",
    "            '''\n",
    "            fcondition = [0,0,0,0,0,0,0,0,0,0,0]\n",
    "            for x in values:\n",
    "                fcount += 1\n",
    "                if x[0] == \"1\":\n",
    "                    fhospitalized += 1\n",
    "                if x[1] != \"9999-99-99\":\n",
    "                    fdeaths += 1\n",
    "                if \"1\" in x[2:-1]:\n",
    "                    fpreexisting += 1\n",
    "                for i in range(len(x[2:-1]) + 1):\n",
    "                    if x[i + 2] == \"1\" and x[1] != \"9999-99-99\":\n",
    "                        fcondition[i] += 1\n",
    "                        \n",
    "            yield \"Female Stats\", {\"count\": fcount, \"deaths\": fdeaths, \n",
    "                                   \"hospitalized\": fhospitalized,\n",
    "                                   \"pre-existing condition\": fpreexisting}\n",
    "            yield \"Death Stats\", {\n",
    "            \"Female\": {\n",
    "            \"deaths\": fdeaths,\n",
    "            \"hospitalized\": fhospitalized,\n",
    "            \"conditions\": {\n",
    "                \"pneumonia\": fcondition[0],\n",
    "                \"diabetes\": fcondition[1],\n",
    "                \"copd\": fcondition[2],\n",
    "                \"asthma\": fcondition[3],\n",
    "                \"immunosuppressed\": fcondition[4],\n",
    "                \"hypertension\": fcondition[5],\n",
    "                \"other\": fcondition[6],\n",
    "                \"cardiovascular\": fcondition[7],\n",
    "                \"obesity\": fcondition[8],\n",
    "                \"renal\": fcondition[9],\n",
    "                \"tobacco\": fcondition[10]      \n",
    "                }\n",
    "            }}\n",
    "        \n",
    "        else:\n",
    "            mdeaths = 0\n",
    "            mcount = 0\n",
    "            mhospitalized = 0\n",
    "            mpreexisting = 0\n",
    "            '''\n",
    "                index indicates which condition is present in person\n",
    "                pneumonia, diabetes, copd, asthma, immunosuppressed, hypertension, other, \n",
    "                cardiovascular, obesity, renal, tobacco   \n",
    "            '''\n",
    "            mcondition = [0,0,0,0,0,0,0,0,0,0,0]\n",
    "            for x in values:\n",
    "                mcount += 1\n",
    "                if x[0] == \"1\":\n",
    "                    mhospitalized += 1\n",
    "                if x[1] != \"9999-99-99\":\n",
    "                    mdeaths += 1\n",
    "                if \"1\" in x[2:-1]:\n",
    "                    mpreexisting += 1\n",
    "                for i in range(len(x[2:-1]) + 1):\n",
    "                    if x[i + 2] == \"1\" and x[1] != \"9999-99-99\":\n",
    "                        mcondition[i] += 1\n",
    "            yield \"Male Stats\", {\"count\": mcount, \"deaths\": mdeaths,\n",
    "                                 \"hospitalized\": mhospitalized,\n",
    "                                 \"pre-existing condition\": mpreexisting}\n",
    "            yield \"Death Stats\", {\n",
    "            \"Male\": {\n",
    "            \"deaths\": mdeaths,\n",
    "            \"hospitalized\": mhospitalized,\n",
    "            \"conditions\": {\n",
    "                \"pneumonia\": mcondition[0],\n",
    "                \"diabetes\": mcondition[1],\n",
    "                \"copd\": mcondition[2],\n",
    "                \"asthma\": mcondition[3],\n",
    "                \"immunosuppressed\": mcondition[4],\n",
    "                \"hypertension\": mcondition[5],\n",
    "                \"other\": mcondition[6],\n",
    "                \"cardiovascular\": mcondition[7],\n",
    "                \"obesity\": mcondition[8],\n",
    "                \"renal\": mcondition[9],\n",
    "                \"tobacco\": mcondition[10]      \n",
    "                }\n",
    "            }}\n",
    "        \n",
    "\n",
    "if __name__ =='__main__':\n",
    "    map_read.run()"
   ]
  },
  {
   "cell_type": "code",
   "execution_count": null,
   "id": "50fe2769",
   "metadata": {},
   "outputs": [],
   "source": [
    "!python bigdata.py \"Covid Data.csv\""
   ]
  },
  {
   "cell_type": "code",
   "execution_count": 3,
   "id": "af198b04",
   "metadata": {},
   "outputs": [],
   "source": [
    "%matplotlib inline\n",
    "import pandas as pd\n",
    "import numpy as np\n",
    "import matplotlib.pyplot as plt\n",
    "import matplotlib.colors as mcolors\n",
    "from math import exp\n",
    "from sklearn.model_selection import train_test_split\n",
    "from sklearn.linear_model import LogisticRegression\n",
    "from sklearn.preprocessing import scale\n",
    "from sklearn import preprocessing\n",
    "from sklearn.metrics import accuracy_score, classification_report, confusion_matrix, ConfusionMatrixDisplay\n",
    "import seaborn as sns"
   ]
  },
  {
   "cell_type": "code",
   "execution_count": 4,
   "id": "75478896",
   "metadata": {},
   "outputs": [
    {
     "ename": "FileNotFoundError",
     "evalue": "[Errno 2] No such file or directory: 'Covid Data.csv'",
     "output_type": "error",
     "traceback": [
      "\u001b[1;31m---------------------------------------------------------------------------\u001b[0m",
      "\u001b[1;31mFileNotFoundError\u001b[0m                         Traceback (most recent call last)",
      "Input \u001b[1;32mIn [4]\u001b[0m, in \u001b[0;36m<cell line: 2>\u001b[1;34m()\u001b[0m\n\u001b[0;32m      1\u001b[0m \u001b[38;5;66;03m# Extract csv information into dataframe\u001b[39;00m\n\u001b[1;32m----> 2\u001b[0m df \u001b[38;5;241m=\u001b[39m \u001b[43mpd\u001b[49m\u001b[38;5;241;43m.\u001b[39;49m\u001b[43mread_csv\u001b[49m\u001b[43m(\u001b[49m\u001b[38;5;124;43m'\u001b[39;49m\u001b[38;5;124;43mCovid Data.csv\u001b[39;49m\u001b[38;5;124;43m'\u001b[39;49m\u001b[43m)\u001b[49m\n\u001b[0;32m      3\u001b[0m df\u001b[38;5;241m.\u001b[39minfo()\n",
      "File \u001b[1;32m~\\Desktop\\Everything\\School\\project_1\\env\\lib\\site-packages\\pandas\\util\\_decorators.py:311\u001b[0m, in \u001b[0;36mdeprecate_nonkeyword_arguments.<locals>.decorate.<locals>.wrapper\u001b[1;34m(*args, **kwargs)\u001b[0m\n\u001b[0;32m    305\u001b[0m \u001b[38;5;28;01mif\u001b[39;00m \u001b[38;5;28mlen\u001b[39m(args) \u001b[38;5;241m>\u001b[39m num_allow_args:\n\u001b[0;32m    306\u001b[0m     warnings\u001b[38;5;241m.\u001b[39mwarn(\n\u001b[0;32m    307\u001b[0m         msg\u001b[38;5;241m.\u001b[39mformat(arguments\u001b[38;5;241m=\u001b[39marguments),\n\u001b[0;32m    308\u001b[0m         \u001b[38;5;167;01mFutureWarning\u001b[39;00m,\n\u001b[0;32m    309\u001b[0m         stacklevel\u001b[38;5;241m=\u001b[39mstacklevel,\n\u001b[0;32m    310\u001b[0m     )\n\u001b[1;32m--> 311\u001b[0m \u001b[38;5;28;01mreturn\u001b[39;00m func(\u001b[38;5;241m*\u001b[39margs, \u001b[38;5;241m*\u001b[39m\u001b[38;5;241m*\u001b[39mkwargs)\n",
      "File \u001b[1;32m~\\Desktop\\Everything\\School\\project_1\\env\\lib\\site-packages\\pandas\\io\\parsers\\readers.py:680\u001b[0m, in \u001b[0;36mread_csv\u001b[1;34m(filepath_or_buffer, sep, delimiter, header, names, index_col, usecols, squeeze, prefix, mangle_dupe_cols, dtype, engine, converters, true_values, false_values, skipinitialspace, skiprows, skipfooter, nrows, na_values, keep_default_na, na_filter, verbose, skip_blank_lines, parse_dates, infer_datetime_format, keep_date_col, date_parser, dayfirst, cache_dates, iterator, chunksize, compression, thousands, decimal, lineterminator, quotechar, quoting, doublequote, escapechar, comment, encoding, encoding_errors, dialect, error_bad_lines, warn_bad_lines, on_bad_lines, delim_whitespace, low_memory, memory_map, float_precision, storage_options)\u001b[0m\n\u001b[0;32m    665\u001b[0m kwds_defaults \u001b[38;5;241m=\u001b[39m _refine_defaults_read(\n\u001b[0;32m    666\u001b[0m     dialect,\n\u001b[0;32m    667\u001b[0m     delimiter,\n\u001b[1;32m   (...)\u001b[0m\n\u001b[0;32m    676\u001b[0m     defaults\u001b[38;5;241m=\u001b[39m{\u001b[38;5;124m\"\u001b[39m\u001b[38;5;124mdelimiter\u001b[39m\u001b[38;5;124m\"\u001b[39m: \u001b[38;5;124m\"\u001b[39m\u001b[38;5;124m,\u001b[39m\u001b[38;5;124m\"\u001b[39m},\n\u001b[0;32m    677\u001b[0m )\n\u001b[0;32m    678\u001b[0m kwds\u001b[38;5;241m.\u001b[39mupdate(kwds_defaults)\n\u001b[1;32m--> 680\u001b[0m \u001b[38;5;28;01mreturn\u001b[39;00m \u001b[43m_read\u001b[49m\u001b[43m(\u001b[49m\u001b[43mfilepath_or_buffer\u001b[49m\u001b[43m,\u001b[49m\u001b[43m \u001b[49m\u001b[43mkwds\u001b[49m\u001b[43m)\u001b[49m\n",
      "File \u001b[1;32m~\\Desktop\\Everything\\School\\project_1\\env\\lib\\site-packages\\pandas\\io\\parsers\\readers.py:575\u001b[0m, in \u001b[0;36m_read\u001b[1;34m(filepath_or_buffer, kwds)\u001b[0m\n\u001b[0;32m    572\u001b[0m _validate_names(kwds\u001b[38;5;241m.\u001b[39mget(\u001b[38;5;124m\"\u001b[39m\u001b[38;5;124mnames\u001b[39m\u001b[38;5;124m\"\u001b[39m, \u001b[38;5;28;01mNone\u001b[39;00m))\n\u001b[0;32m    574\u001b[0m \u001b[38;5;66;03m# Create the parser.\u001b[39;00m\n\u001b[1;32m--> 575\u001b[0m parser \u001b[38;5;241m=\u001b[39m TextFileReader(filepath_or_buffer, \u001b[38;5;241m*\u001b[39m\u001b[38;5;241m*\u001b[39mkwds)\n\u001b[0;32m    577\u001b[0m \u001b[38;5;28;01mif\u001b[39;00m chunksize \u001b[38;5;129;01mor\u001b[39;00m iterator:\n\u001b[0;32m    578\u001b[0m     \u001b[38;5;28;01mreturn\u001b[39;00m parser\n",
      "File \u001b[1;32m~\\Desktop\\Everything\\School\\project_1\\env\\lib\\site-packages\\pandas\\io\\parsers\\readers.py:934\u001b[0m, in \u001b[0;36mTextFileReader.__init__\u001b[1;34m(self, f, engine, **kwds)\u001b[0m\n\u001b[0;32m    931\u001b[0m     \u001b[38;5;28mself\u001b[39m\u001b[38;5;241m.\u001b[39moptions[\u001b[38;5;124m\"\u001b[39m\u001b[38;5;124mhas_index_names\u001b[39m\u001b[38;5;124m\"\u001b[39m] \u001b[38;5;241m=\u001b[39m kwds[\u001b[38;5;124m\"\u001b[39m\u001b[38;5;124mhas_index_names\u001b[39m\u001b[38;5;124m\"\u001b[39m]\n\u001b[0;32m    933\u001b[0m \u001b[38;5;28mself\u001b[39m\u001b[38;5;241m.\u001b[39mhandles: IOHandles \u001b[38;5;241m|\u001b[39m \u001b[38;5;28;01mNone\u001b[39;00m \u001b[38;5;241m=\u001b[39m \u001b[38;5;28;01mNone\u001b[39;00m\n\u001b[1;32m--> 934\u001b[0m \u001b[38;5;28mself\u001b[39m\u001b[38;5;241m.\u001b[39m_engine \u001b[38;5;241m=\u001b[39m \u001b[38;5;28;43mself\u001b[39;49m\u001b[38;5;241;43m.\u001b[39;49m\u001b[43m_make_engine\u001b[49m\u001b[43m(\u001b[49m\u001b[43mf\u001b[49m\u001b[43m,\u001b[49m\u001b[43m \u001b[49m\u001b[38;5;28;43mself\u001b[39;49m\u001b[38;5;241;43m.\u001b[39;49m\u001b[43mengine\u001b[49m\u001b[43m)\u001b[49m\n",
      "File \u001b[1;32m~\\Desktop\\Everything\\School\\project_1\\env\\lib\\site-packages\\pandas\\io\\parsers\\readers.py:1218\u001b[0m, in \u001b[0;36mTextFileReader._make_engine\u001b[1;34m(self, f, engine)\u001b[0m\n\u001b[0;32m   1214\u001b[0m     mode \u001b[38;5;241m=\u001b[39m \u001b[38;5;124m\"\u001b[39m\u001b[38;5;124mrb\u001b[39m\u001b[38;5;124m\"\u001b[39m\n\u001b[0;32m   1215\u001b[0m \u001b[38;5;66;03m# error: No overload variant of \"get_handle\" matches argument types\u001b[39;00m\n\u001b[0;32m   1216\u001b[0m \u001b[38;5;66;03m# \"Union[str, PathLike[str], ReadCsvBuffer[bytes], ReadCsvBuffer[str]]\"\u001b[39;00m\n\u001b[0;32m   1217\u001b[0m \u001b[38;5;66;03m# , \"str\", \"bool\", \"Any\", \"Any\", \"Any\", \"Any\", \"Any\"\u001b[39;00m\n\u001b[1;32m-> 1218\u001b[0m \u001b[38;5;28mself\u001b[39m\u001b[38;5;241m.\u001b[39mhandles \u001b[38;5;241m=\u001b[39m \u001b[43mget_handle\u001b[49m\u001b[43m(\u001b[49m\u001b[43m  \u001b[49m\u001b[38;5;66;43;03m# type: ignore[call-overload]\u001b[39;49;00m\n\u001b[0;32m   1219\u001b[0m \u001b[43m    \u001b[49m\u001b[43mf\u001b[49m\u001b[43m,\u001b[49m\n\u001b[0;32m   1220\u001b[0m \u001b[43m    \u001b[49m\u001b[43mmode\u001b[49m\u001b[43m,\u001b[49m\n\u001b[0;32m   1221\u001b[0m \u001b[43m    \u001b[49m\u001b[43mencoding\u001b[49m\u001b[38;5;241;43m=\u001b[39;49m\u001b[38;5;28;43mself\u001b[39;49m\u001b[38;5;241;43m.\u001b[39;49m\u001b[43moptions\u001b[49m\u001b[38;5;241;43m.\u001b[39;49m\u001b[43mget\u001b[49m\u001b[43m(\u001b[49m\u001b[38;5;124;43m\"\u001b[39;49m\u001b[38;5;124;43mencoding\u001b[39;49m\u001b[38;5;124;43m\"\u001b[39;49m\u001b[43m,\u001b[49m\u001b[43m \u001b[49m\u001b[38;5;28;43;01mNone\u001b[39;49;00m\u001b[43m)\u001b[49m\u001b[43m,\u001b[49m\n\u001b[0;32m   1222\u001b[0m \u001b[43m    \u001b[49m\u001b[43mcompression\u001b[49m\u001b[38;5;241;43m=\u001b[39;49m\u001b[38;5;28;43mself\u001b[39;49m\u001b[38;5;241;43m.\u001b[39;49m\u001b[43moptions\u001b[49m\u001b[38;5;241;43m.\u001b[39;49m\u001b[43mget\u001b[49m\u001b[43m(\u001b[49m\u001b[38;5;124;43m\"\u001b[39;49m\u001b[38;5;124;43mcompression\u001b[39;49m\u001b[38;5;124;43m\"\u001b[39;49m\u001b[43m,\u001b[49m\u001b[43m \u001b[49m\u001b[38;5;28;43;01mNone\u001b[39;49;00m\u001b[43m)\u001b[49m\u001b[43m,\u001b[49m\n\u001b[0;32m   1223\u001b[0m \u001b[43m    \u001b[49m\u001b[43mmemory_map\u001b[49m\u001b[38;5;241;43m=\u001b[39;49m\u001b[38;5;28;43mself\u001b[39;49m\u001b[38;5;241;43m.\u001b[39;49m\u001b[43moptions\u001b[49m\u001b[38;5;241;43m.\u001b[39;49m\u001b[43mget\u001b[49m\u001b[43m(\u001b[49m\u001b[38;5;124;43m\"\u001b[39;49m\u001b[38;5;124;43mmemory_map\u001b[39;49m\u001b[38;5;124;43m\"\u001b[39;49m\u001b[43m,\u001b[49m\u001b[43m \u001b[49m\u001b[38;5;28;43;01mFalse\u001b[39;49;00m\u001b[43m)\u001b[49m\u001b[43m,\u001b[49m\n\u001b[0;32m   1224\u001b[0m \u001b[43m    \u001b[49m\u001b[43mis_text\u001b[49m\u001b[38;5;241;43m=\u001b[39;49m\u001b[43mis_text\u001b[49m\u001b[43m,\u001b[49m\n\u001b[0;32m   1225\u001b[0m \u001b[43m    \u001b[49m\u001b[43merrors\u001b[49m\u001b[38;5;241;43m=\u001b[39;49m\u001b[38;5;28;43mself\u001b[39;49m\u001b[38;5;241;43m.\u001b[39;49m\u001b[43moptions\u001b[49m\u001b[38;5;241;43m.\u001b[39;49m\u001b[43mget\u001b[49m\u001b[43m(\u001b[49m\u001b[38;5;124;43m\"\u001b[39;49m\u001b[38;5;124;43mencoding_errors\u001b[39;49m\u001b[38;5;124;43m\"\u001b[39;49m\u001b[43m,\u001b[49m\u001b[43m \u001b[49m\u001b[38;5;124;43m\"\u001b[39;49m\u001b[38;5;124;43mstrict\u001b[39;49m\u001b[38;5;124;43m\"\u001b[39;49m\u001b[43m)\u001b[49m\u001b[43m,\u001b[49m\n\u001b[0;32m   1226\u001b[0m \u001b[43m    \u001b[49m\u001b[43mstorage_options\u001b[49m\u001b[38;5;241;43m=\u001b[39;49m\u001b[38;5;28;43mself\u001b[39;49m\u001b[38;5;241;43m.\u001b[39;49m\u001b[43moptions\u001b[49m\u001b[38;5;241;43m.\u001b[39;49m\u001b[43mget\u001b[49m\u001b[43m(\u001b[49m\u001b[38;5;124;43m\"\u001b[39;49m\u001b[38;5;124;43mstorage_options\u001b[39;49m\u001b[38;5;124;43m\"\u001b[39;49m\u001b[43m,\u001b[49m\u001b[43m \u001b[49m\u001b[38;5;28;43;01mNone\u001b[39;49;00m\u001b[43m)\u001b[49m\u001b[43m,\u001b[49m\n\u001b[0;32m   1227\u001b[0m \u001b[43m\u001b[49m\u001b[43m)\u001b[49m\n\u001b[0;32m   1228\u001b[0m \u001b[38;5;28;01massert\u001b[39;00m \u001b[38;5;28mself\u001b[39m\u001b[38;5;241m.\u001b[39mhandles \u001b[38;5;129;01mis\u001b[39;00m \u001b[38;5;129;01mnot\u001b[39;00m \u001b[38;5;28;01mNone\u001b[39;00m\n\u001b[0;32m   1229\u001b[0m f \u001b[38;5;241m=\u001b[39m \u001b[38;5;28mself\u001b[39m\u001b[38;5;241m.\u001b[39mhandles\u001b[38;5;241m.\u001b[39mhandle\n",
      "File \u001b[1;32m~\\Desktop\\Everything\\School\\project_1\\env\\lib\\site-packages\\pandas\\io\\common.py:786\u001b[0m, in \u001b[0;36mget_handle\u001b[1;34m(path_or_buf, mode, encoding, compression, memory_map, is_text, errors, storage_options)\u001b[0m\n\u001b[0;32m    781\u001b[0m \u001b[38;5;28;01melif\u001b[39;00m \u001b[38;5;28misinstance\u001b[39m(handle, \u001b[38;5;28mstr\u001b[39m):\n\u001b[0;32m    782\u001b[0m     \u001b[38;5;66;03m# Check whether the filename is to be opened in binary mode.\u001b[39;00m\n\u001b[0;32m    783\u001b[0m     \u001b[38;5;66;03m# Binary mode does not support 'encoding' and 'newline'.\u001b[39;00m\n\u001b[0;32m    784\u001b[0m     \u001b[38;5;28;01mif\u001b[39;00m ioargs\u001b[38;5;241m.\u001b[39mencoding \u001b[38;5;129;01mand\u001b[39;00m \u001b[38;5;124m\"\u001b[39m\u001b[38;5;124mb\u001b[39m\u001b[38;5;124m\"\u001b[39m \u001b[38;5;129;01mnot\u001b[39;00m \u001b[38;5;129;01min\u001b[39;00m ioargs\u001b[38;5;241m.\u001b[39mmode:\n\u001b[0;32m    785\u001b[0m         \u001b[38;5;66;03m# Encoding\u001b[39;00m\n\u001b[1;32m--> 786\u001b[0m         handle \u001b[38;5;241m=\u001b[39m \u001b[38;5;28;43mopen\u001b[39;49m\u001b[43m(\u001b[49m\n\u001b[0;32m    787\u001b[0m \u001b[43m            \u001b[49m\u001b[43mhandle\u001b[49m\u001b[43m,\u001b[49m\n\u001b[0;32m    788\u001b[0m \u001b[43m            \u001b[49m\u001b[43mioargs\u001b[49m\u001b[38;5;241;43m.\u001b[39;49m\u001b[43mmode\u001b[49m\u001b[43m,\u001b[49m\n\u001b[0;32m    789\u001b[0m \u001b[43m            \u001b[49m\u001b[43mencoding\u001b[49m\u001b[38;5;241;43m=\u001b[39;49m\u001b[43mioargs\u001b[49m\u001b[38;5;241;43m.\u001b[39;49m\u001b[43mencoding\u001b[49m\u001b[43m,\u001b[49m\n\u001b[0;32m    790\u001b[0m \u001b[43m            \u001b[49m\u001b[43merrors\u001b[49m\u001b[38;5;241;43m=\u001b[39;49m\u001b[43merrors\u001b[49m\u001b[43m,\u001b[49m\n\u001b[0;32m    791\u001b[0m \u001b[43m            \u001b[49m\u001b[43mnewline\u001b[49m\u001b[38;5;241;43m=\u001b[39;49m\u001b[38;5;124;43m\"\u001b[39;49m\u001b[38;5;124;43m\"\u001b[39;49m\u001b[43m,\u001b[49m\n\u001b[0;32m    792\u001b[0m \u001b[43m        \u001b[49m\u001b[43m)\u001b[49m\n\u001b[0;32m    793\u001b[0m     \u001b[38;5;28;01melse\u001b[39;00m:\n\u001b[0;32m    794\u001b[0m         \u001b[38;5;66;03m# Binary mode\u001b[39;00m\n\u001b[0;32m    795\u001b[0m         handle \u001b[38;5;241m=\u001b[39m \u001b[38;5;28mopen\u001b[39m(handle, ioargs\u001b[38;5;241m.\u001b[39mmode)\n",
      "\u001b[1;31mFileNotFoundError\u001b[0m: [Errno 2] No such file or directory: 'Covid Data.csv'"
     ]
    }
   ],
   "source": [
    "# Extract csv information into dataframe\n",
    "df = pd.read_csv('Covid Data.csv')\n",
    "df.info()"
   ]
  },
  {
   "cell_type": "markdown",
   "id": "638e11c0",
   "metadata": {},
   "source": [
    "## Clean dataset\n",
    "\n",
    "---"
   ]
  },
  {
   "cell_type": "code",
   "execution_count": null,
   "id": "3389bd33",
   "metadata": {},
   "outputs": [],
   "source": []
  },
  {
   "cell_type": "markdown",
   "id": "c25690b8",
   "metadata": {},
   "source": [
    "## Analyze dataset\n",
    "\n",
    "---\n"
   ]
  },
  {
   "cell_type": "code",
   "execution_count": null,
   "id": "233b7c7e",
   "metadata": {
    "scrolled": true
   },
   "outputs": [],
   "source": [
    "# Preliminary Values\n",
    "print('Number of cases:', len(df.index))\n",
    "print('Number of cases alive:', sum(df['DATE_DIED']=='9999-99-99'))\n",
    "print('Number of cases dead:', sum(df['DATE_DIED']!='9999-99-99'))"
   ]
  },
  {
   "cell_type": "markdown",
   "id": "f0912951",
   "metadata": {},
   "source": [
    "### Histogram of entire dataset"
   ]
  },
  {
   "cell_type": "code",
   "execution_count": null,
   "id": "406698f1",
   "metadata": {},
   "outputs": [],
   "source": [
    "# Display historgram for class 1 accidents\n",
    "colors = list(mcolors.CSS4_COLORS.keys())[10:]\n",
    "fig = plt.figure(figsize=(20,20))\n",
    "for i, feature in enumerate(df.columns):\n",
    "    f = fig.add_subplot(8, 4, i + 1)\n",
    "    df[feature].hist(bins = 20, ax = f, facecolor = colors[i])\n",
    "    f.set_title(feature + \" Histogram\", color = colors[35])\n",
    "    f.set_yscale('log')\n",
    "fig.tight_layout()\n",
    "plt.show()"
   ]
  },
  {
   "cell_type": "markdown",
   "id": "dfc1b925",
   "metadata": {},
   "source": [
    "### Histogram of 'alive' cases"
   ]
  },
  {
   "cell_type": "code",
   "execution_count": null,
   "id": "d8ff4e1c",
   "metadata": {},
   "outputs": [],
   "source": [
    "df_alive = df.loc[df['DATE_DIED']=='9999-99-99']\n",
    "\n",
    "# Display historgram for class 1 accidents\n",
    "colors = list(mcolors.CSS4_COLORS.keys())[10:]\n",
    "fig = plt.figure(figsize=(20,20))\n",
    "for i, feature in enumerate(df_alive.columns):\n",
    "    f = fig.add_subplot(8, 4, i + 1)\n",
    "    df_alive[feature].hist(bins = 20, ax = f, facecolor = colors[i])\n",
    "    f.set_title(feature + \" Histogram\", color = colors[35])\n",
    "    f.set_yscale('log')\n",
    "fig.tight_layout()\n",
    "plt.show()"
   ]
  },
  {
   "cell_type": "code",
   "execution_count": null,
   "id": "6a106090",
   "metadata": {},
   "outputs": [],
   "source": [
    "df_alive.head()"
   ]
  },
  {
   "cell_type": "markdown",
   "id": "74e95fb1",
   "metadata": {},
   "source": [
    "### Histogram of 'dead' cases"
   ]
  },
  {
   "cell_type": "code",
   "execution_count": null,
   "id": "1db5b67d",
   "metadata": {},
   "outputs": [],
   "source": [
    "df_dead = df.loc[df['DATE_DIED']!='9999-99-99']\n",
    "\n",
    "# Display historgram for class 1 accidents\n",
    "colors = list(mcolors.CSS4_COLORS.keys())[10:]\n",
    "fig = plt.figure(figsize=(20,20))\n",
    "for i, feature in enumerate(df_dead.columns):\n",
    "    f = fig.add_subplot(8, 4, i + 1)\n",
    "    df_dead[feature].hist(bins = 20, ax = f, facecolor = colors[i])\n",
    "    f.set_title(feature + \" Histogram\", color = colors[35])\n",
    "    f.set_yscale('log')\n",
    "fig.tight_layout()\n",
    "plt.show()"
   ]
  },
  {
   "cell_type": "code",
   "execution_count": null,
   "id": "a2897020",
   "metadata": {},
   "outputs": [],
   "source": [
    "df_dead.head()"
   ]
  },
  {
   "cell_type": "markdown",
   "id": "b8fa9250",
   "metadata": {},
   "source": [
    "### Heatmap correlation"
   ]
  },
  {
   "cell_type": "code",
   "execution_count": null,
   "id": "227d3352",
   "metadata": {},
   "outputs": [],
   "source": [
    "# Heatmap\n",
    "plt.figure(figsize = (38, 16))\n",
    "sns.heatmap(df.corr(), annot=True)\n",
    "plt.show()"
   ]
  },
  {
   "cell_type": "markdown",
   "id": "b0616f7d",
   "metadata": {},
   "source": [
    "## Preliminary Analysis\n",
    "\n",
    "There are quite a few differences between 'alive' and 'dead' cases...\n",
    "\n",
    "---"
   ]
  },
  {
   "cell_type": "markdown",
   "id": "b34c6a2e",
   "metadata": {},
   "source": [
    "## Logistic Regression\n",
    "\n",
    "A logistic regression was created rather than a linear regression as this model attempts to classify cases between binary values of 'alive' or 'dead'.\n",
    "\n",
    "---"
   ]
  },
  {
   "cell_type": "code",
   "execution_count": null,
   "id": "60bbfac2",
   "metadata": {},
   "outputs": [],
   "source": [
    "# Rebuild dataframe to contain binary values for 'ALIVE/DEAD' status\n",
    "# Alive - 0\n",
    "# Dead - 1\n",
    "df = pd.read_csv('Covid Data.csv')\n",
    "df = df.rename(columns={'DATE_DIED':'ALIVE_DEAD'})\n",
    "df.loc[df['ALIVE_DEAD'] != '9999-99-99', 'ALIVE_DEAD'] = 1\n",
    "df.loc[df['ALIVE_DEAD'] == '9999-99-99', 'ALIVE_DEAD'] = 0\n",
    "df['ALIVE_DEAD'] = df['ALIVE_DEAD'].astype(np.int64)"
   ]
  },
  {
   "cell_type": "code",
   "execution_count": null,
   "id": "503920aa",
   "metadata": {},
   "outputs": [],
   "source": [
    "# Create training and testing set\n",
    "df_y = df['ALIVE_DEAD']\n",
    "df_x = df.iloc[:, df.columns!='ALIVE_DEAD']\n",
    "df_x = scale(df_x)\n",
    "x_train, x_test, y_train, y_test = train_test_split(df_x, df_y, test_size=0.20, random_state=12, stratify=df_y)"
   ]
  },
  {
   "cell_type": "code",
   "execution_count": null,
   "id": "c6c8165c",
   "metadata": {},
   "outputs": [],
   "source": [
    "# Create and test Logistic Regression Model\n",
    "model = LogisticRegression();\n",
    "model.fit(x_train, y_train)\n",
    "train_accuracy = model.score(x_train, y_train)\n",
    "print(f'The accuracy for the training set is {100 * train_accuracy:.2f}%')\n",
    "test_accuracy = model.score(x_test, y_test)\n",
    "print(f'The accuracy for the test set is {100 * test_accuracy:.2f}%')"
   ]
  },
  {
   "cell_type": "code",
   "execution_count": null,
   "id": "0a959e6f",
   "metadata": {},
   "outputs": [],
   "source": [
    "# Confusion Matrix\n",
    "cm = confusion_matrix(y_test, model.predict(x_test))\n",
    "disp = ConfusionMatrixDisplay(confusion_matrix=cm, display_labels=model.classes_)\n",
    "disp.plot()\n",
    "plt.show()"
   ]
  },
  {
   "cell_type": "code",
   "execution_count": null,
   "id": "7c1b4dbb",
   "metadata": {},
   "outputs": [],
   "source": [
    "df"
   ]
  },
  {
   "cell_type": "code",
   "execution_count": null,
   "id": "438cb6fb",
   "metadata": {},
   "outputs": [],
   "source": [
    "# Preliminary Values\n",
    "print('Number of cases:', len(df.index))\n",
    "print('Number of cases alive:', sum(df['ALIVE_DEAD']==0))\n",
    "print('Number of cases dead:', sum(df['ALIVE_DEAD']==1))"
   ]
  },
  {
   "cell_type": "code",
   "execution_count": null,
   "id": "1e99c089",
   "metadata": {},
   "outputs": [],
   "source": [
    "# Heatmap\n",
    "plt.figure(figsize = (38, 16))\n",
    "sns.heatmap(df.corr(), annot=True)\n",
    "plt.show()"
   ]
  },
  {
   "cell_type": "markdown",
   "id": "01146e84",
   "metadata": {},
   "source": [
    "### Heatmap Analysis\n",
    "\n",
    "Things that correlated high with ALIVE_DEAD are PATIENT_TYPE, INTUBED, AGE, CLASSIFICATION_FINAL, ICU"
   ]
  },
  {
   "cell_type": "markdown",
   "id": "f6dd5d07",
   "metadata": {},
   "source": [
    "### Optimized Logistic Regression"
   ]
  },
  {
   "cell_type": "code",
   "execution_count": null,
   "id": "0e316a73",
   "metadata": {},
   "outputs": [],
   "source": [
    "# Rebuild dataframe to contain binary values for 'ALIVE/DEAD' status\n",
    "# Alive - 0\n",
    "# Dead - 1\n",
    "df = pd.read_csv('Covid Data.csv')\n",
    "df = df.rename(columns={'DATE_DIED':'ALIVE_DEAD'})\n",
    "df.loc[df['ALIVE_DEAD'] != '9999-99-99', 'ALIVE_DEAD'] = 1\n",
    "df.loc[df['ALIVE_DEAD'] == '9999-99-99', 'ALIVE_DEAD'] = 0\n",
    "df['ALIVE_DEAD'] = df['ALIVE_DEAD'].astype(np.int64)"
   ]
  },
  {
   "cell_type": "code",
   "execution_count": null,
   "id": "6be1607e",
   "metadata": {},
   "outputs": [],
   "source": [
    "# Create training and testing set\n",
    "df_y = df['ALIVE_DEAD']\n",
    "df_x = df.filter(['PATIENT_TYPE', 'INTUBED', 'AGE', 'CLASSIFICATION_FINAL', 'ICU'], axis=1)\n",
    "df_x = scale(df_x)\n",
    "x_train, x_test, y_train, y_test = train_test_split(df_x, df_y, test_size=0.20, random_state=12, stratify=df_y)\n",
    "df_x"
   ]
  },
  {
   "cell_type": "code",
   "execution_count": null,
   "id": "0c5f4eb8",
   "metadata": {},
   "outputs": [],
   "source": [
    "# Create and test Logistic Regression Model\n",
    "model = LogisticRegression();\n",
    "model.fit(x_train, y_train)\n",
    "train_accuracy = model.score(x_train, y_train)\n",
    "print(f'The accuracy for the training set is {100 * train_accuracy:.2f}%')\n",
    "test_accuracy = model.score(x_test, y_test)\n",
    "print(f'The accuracy for the test set is {100 * test_accuracy:.2f}%')"
   ]
  },
  {
   "cell_type": "code",
   "execution_count": null,
   "id": "2e45a9af",
   "metadata": {},
   "outputs": [],
   "source": [
    "# Confusion Matrix\n",
    "cm = confusion_matrix(y_test, model.predict(x_test))\n",
    "disp = ConfusionMatrixDisplay(confusion_matrix=cm, display_labels=model.classes_)\n",
    "disp.plot()\n",
    "plt.show()"
   ]
  }
 ],
 "metadata": {
  "kernelspec": {
   "display_name": "Python 3 (ipykernel)",
   "language": "python",
   "name": "python3"
  },
  "language_info": {
   "codemirror_mode": {
    "name": "ipython",
    "version": 3
   },
   "file_extension": ".py",
   "mimetype": "text/x-python",
   "name": "python",
   "nbconvert_exporter": "python",
   "pygments_lexer": "ipython3",
   "version": "3.10.4"
  }
 },
 "nbformat": 4,
 "nbformat_minor": 5
}
